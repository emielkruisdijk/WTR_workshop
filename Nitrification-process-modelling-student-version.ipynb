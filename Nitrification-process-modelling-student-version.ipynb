{
 "cells": [
  {
   "cell_type": "markdown",
   "id": "b13c2f2b",
   "metadata": {},
   "source": [
    "# NITRIFICATION MODEL\n",
    "\n",
    "Author: Emiel Kruisdijk, Ali Moradvandi;  Date: 14-09-2022\n",
    "\n",
    "The model is based on data from the article: \n",
    "de Kreuk 2007 BB Kinetic model of a granular sludge SBR: Influences on nutrient removal\n",
    "\n",
    "https://onlinelibrary.wiley.com/doi/abs/10.1002/bit.21196\n",
    "\n",
    "## Introduction\n",
    "\n",
    "Welcome to this nitrification model made in jupyter notebook! In this notebook, we try to guide you through the nitrification model step by step. The aim of this workshop is to show that modelling can substantially decrease the effort needed for data analysis.\n",
    "\n",
    "**Before you start, team up in groups of 2 for this workshop.**\n",
    "\n",
    "The notebook is not fully ready to run the model. We wrote down some comments here and there in the cells of the notebook, read those comments carefully, and finish the code where needed. The locations where the code needs to be adjusted are signalled with the symbols **#!**. We finish the script with a couple of questions that need to be answered. Please make a new cell below the cell with the question, and write your answer in this cell.\n",
    "\n",
    "If you do not know how to finish the code, ask your question first to an online search engine or consult stackoverflow.com. Stackoverflow is a public Q&A platform. The question you have is often already answered there. Still problems? Do not hesitate to consult us! \n",
    "\n",
    "Good luck finishing the model!\n"
   ]
  },
  {
   "cell_type": "code",
   "execution_count": 4,
   "id": "bda1a618",
   "metadata": {},
   "outputs": [],
   "source": [
    "#First, we will open all packages that are needed for the model and data analysis\n",
    "#A python package is a directory with prefab python modules, which can be used in your script.\n",
    "\n",
    "#The pandas package is made for data analysis, and can be somewhat compared with microsoft excel\n",
    "import pandas as pd\n",
    "\n",
    "#Numpy is the package for scientific computing with python.\n",
    "\n",
    "#! IMPORT THE NUMPY PACKAGE HERE AS NP\n",
    "\n",
    "#The SciPy package provides algorithms for optimization, integration, interpolation etc. Here we import specifically the\n",
    "#modules related to integration\n",
    "from scipy.integrate import odeint\n",
    "\n",
    "#The pyplot package is often used for visualization of results.\n",
    "\n",
    "#! IMPORT PYPLOT AS PLT FROM MATPLOTLIB"
   ]
  },
  {
   "cell_type": "markdown",
   "id": "416a7474",
   "metadata": {},
   "source": [
    "## Nitrification reaction equations\n",
    "\n",
    "Nitrification is a two-step biological process, in which $NH_{4}$ is transformed to $NO_{3}$ with $NO_{2}$ as an intermittent product. The reaction equations below represent this process:\n",
    "\n",
    "Step 1: $$ NH_{4}^{+} + 1.5O_{2}  \\Rightarrow  NO_{2}^{-} + H_{2}O + 2H^{+} $$\n",
    "\n",
    "Step 2: $$ NO_{2}^{-} + 0.5O_{2} \\Rightarrow NO_{3}^{-} $$\n",
    "\n",
    "Both reactions are extensively researched, during which rate equations are developed. These rate equations are used to simulate both steps of nitrification in this model."
   ]
  },
  {
   "cell_type": "markdown",
   "id": "b2d34a14",
   "metadata": {},
   "source": [
    "## Rate equation nitrification (step 1 - AOB)\n",
    "\n",
    "Nitrification (Step 1):\n",
    "\n",
    "The equation below can be used to estimate the  process rate of the first step of nitrification. It is a Monod-type rate equation, which is often used to present biological conversion processes. The equation is a differential equation, which can be used to calculate the rate of the biological conversion (thus: change of concentration over a period of time, dS/dT)\n",
    "\n",
    "$$ Process\\ rate\\ 1 \\equiv \\mu _{max}^{AOB} . \\frac{S_{O_{2}}}{K_{O_{2}}^{AOB}+S_{O_{2}}} . \\frac{S_{NH}}{K_{NH}^{AOB}+S_{NH}} . X_{AOB}$$\n",
    "\n",
    "where $\\mu_{max}^{AOB}$ is the maximum growth rate of ammonium oxidizing bacteria (AOB), $S_{i}$ the concentration of solute $i$, $K_{i}$ the half-saturation coefficient of $i$, and $X_{AOB}$ is the COD concentration.\n",
    "\n",
    "The values of these parameters in the rate equation are defined below.\n",
    "\n",
    "## Rate equation nitrification (step 2 - NOB)\n",
    "\n",
    "Nitrification (Step 2):\n",
    "\n",
    "A similar type of equation can be used to estimate the process rate of the second step of nitrification.\n",
    "\n",
    "Rate equation:\n",
    "\n",
    "$$ Process \\ rate\\ 2 \\equiv \\mu _{max}^{NOB} . \\frac{S_{O_{2}}}{K_{O_{2}}^{NOB}+S_{O_{2}}} . \\frac{S_{NO_{2}}}{K_{NO_{2}}^{NOB}+S_{NO_{2}}} . X_{NOB}$$\n",
    "\n",
    "where $\\mu_{max}^{NOB}$ is the maximum growth rate of nitrite oxidizing bacteria (NOB), and $X_{NOB}$ is the COD concentration.\n",
    "\n",
    "The values of the parameters in the rate equation are defined below."
   ]
  },
  {
   "cell_type": "markdown",
   "id": "378cab83",
   "metadata": {},
   "source": [
    "## Parameters used in simulation\n",
    "Below all parameters are shown, which are used in the simulation. The names of the parameters in the rate equations shown before can be different than the names used in the code. The parameter names in the code are shown for each parameter at the end of the sentence.\n",
    "\n",
    "Maximum specific growth rate (Xnh)  µ$_{NH}$ = 0.4 d$^{-1}$ --> In model unh\n",
    "\n",
    "Maximum specific growth rate (Xno)  µ$_{NO}$ = 1.1 d$^{-1}$ --> In model uno\n",
    "\n",
    "Nitrogen content of biomass  i$_{nbm}$ = 0.07 gN x gCOD$^{-1}$ --> In model inbm\n",
    "\n",
    "Yield for growth of ammonium oxidizers  Y$_{NH}$ = 0.15 gCOD x gN$^{-1}$ --> In model Ynh\n",
    "\n",
    "Yield for growth of nitrite oxidizers  Y$_{NO}$ = 0.041 gCOD x gN$^{-1}$ --> In model Yno\n",
    "\n",
    "Half-saturation coefficient for oxygen (Xnh)  K$_{O2,NH}$ = 0.3 --> In model KO2nh\n",
    "\n",
    "Half-saturation coefficient for ammonium (Xnh)  K$_{NH4,NH}$ = 2.4 --> In model Knh\n",
    "\n",
    "Half-saturation coefficient for oxygen (Xno)  K$_{O2,NO}$ = 0.1 --> In model KO2no\n",
    "\n",
    "Half-saturation coefficient for nitrite (Xno)  K$_{NO2,NO}$ = 0.238 --> In model KNO2no"
   ]
  },
  {
   "cell_type": "code",
   "execution_count": 2,
   "id": "19b65ad3",
   "metadata": {},
   "outputs": [],
   "source": [
    "#Parameters used in simulation\n",
    "\n",
    "unh=0.4 #maximum specific growth rate (Xnh)\n",
    "\n",
    "#! FILL IN THE OTHER PARAMETERS BELOW, BASED ON THE DATA PROVIDED IN THE TEXT ABOVE\n",
    "\n",
    "mu_AOB    =                  # Maximum specific growth rate (X_AOB) [d-1]\n",
    "mu_NOB    =                  # Maximum specific growth rate (X_NOB) [d-1]\n",
    "\n",
    "inbm      =                  # Nitrogen content of biomass [gN x gCOD-1]\n",
    "\n",
    "Y_AOB     =                  # Yield for growth of ammonium oxidizers [mgCOD/mgN]\n",
    "Y_NOB     =                  # Yield for growth of nitrite oxidizers  [mgCOD/mgN]\n",
    "\n",
    "\n",
    "K_O2_AOB  =                  # Half-saturation coefficient for oxygen (X_AOB)\n",
    "K_NH4_AOB =                  # Half-saturation coefficient for ammonium (X_AOB)\n",
    "K_O2_NOB  =                  # Half-saturation coefficient for oxygen (X_NOB)\n",
    "K_NO2_NOB =                  # Half-saturation coefficient for nitrite (X_NOB)  "
   ]
  },
  {
   "cell_type": "markdown",
   "id": "bb5ef9b4",
   "metadata": {},
   "source": [
    "## Stoichiometric Matrix\n",
    "\n",
    "| Process $\\downarrow$ |  Component $\\rightarrow$ | $S_{O_2}$ | $S_{NH_4}$ | $S_{NO_3}$ | $S_{NO_2}$ | $X_{AOB}$ | $X_{NOB}$ |Rates |\n",
    "|---------|:-|:-|:-|:-|:-|:-|:-|:-|\n",
    "|Growth AOB|  | $1-\\frac{3.43}{Y_{AOB}}$ | $\\frac{-1}{Y_{AOB}} - i_{nbm}$ | | $\\frac{1}{Y_{AOB}}$  | $1$ |  | Process rate 1 |  \n",
    "|Growth NOB|  | $1-\\frac{1.14}{Y_{NOB}}$ | $\\frac{1}{Y_{NOB}}$ | $\\frac{1}{Y_{NOB}}$ | $\\frac{-1}{Y_{NOB}} - i_{nbm}$ |  | $1$ | Process rate 2 | "
   ]
  },
  {
   "cell_type": "markdown",
   "id": "08ba957e",
   "metadata": {},
   "source": [
    "The figure above shows the stoichiometric matrix. This matrix shows the rates for the specific bioconversion processes. \n",
    "\n",
    "**How to use this matrix?**\n",
    "\n",
    "The matrix can be used in the following two steps:\n",
    "1. The process rate needs to be estimated using the Monod-type rate equations shown above. \n",
    "2. The estimated process rate needs to be multiplied with the term found in the above table for the specific parameter that is estimated.\n",
    "\n",
    "For example, let us calculate the change in oxygen concentration (S$_{O_{2}}$) during the first step of nitrification. This can be done by multiplying the process rate by the rate for the bioconversion of O$_{2}$. Combining both formulas you will end up with the following equation:\n",
    "\n",
    "$$ Process \\ rate \\ O_{2} = (1-\\frac{3.43}{Y_{NH}}) . \\mu _{max}^{AOB} . \\frac{S_{O_{2}}}{K_{O_{2}}^{AOB}+S_{O_{2}}} . \\frac{S_{NH}}{K_{NH}^{AOB}+S_{NH}} . X_{AOB}$$\n",
    "\n",
    "The last step is to plot the O$_2$ concentrations over time. And, therefore, we need to solve the differential equation. Luckily, we do not have to solve the differential equation ourselve. Python has packages which can solve differential equations. In this case, we use the odeint modul from the scipy.integrate package.\n",
    "\n",
    "For more information about this solver, see:\n",
    "https://docs.scipy.org/doc/scipy/reference/generated/scipy.integrate.odeint.html\n",
    "\n",
    "These steps above should be repeated for the other solutes and biomass involved in nitrification. After all these steps are taken, the data needs to be plotted in a nice figure. The steps explained above are performed in the model shown below."
   ]
  },
  {
   "cell_type": "markdown",
   "id": "f978de6d",
   "metadata": {},
   "source": [
    "## Simulating nitrification over time"
   ]
  },
  {
   "cell_type": "code",
   "execution_count": 5,
   "id": "088da239",
   "metadata": {},
   "outputs": [
    {
     "data": {
      "text/plain": [
       "<matplotlib.legend.Legend at 0x1adf9ad4070>"
      ]
     },
     "execution_count": 5,
     "metadata": {},
     "output_type": "execute_result"
    },
    {
     "data": {
      "image/png": "[encoded data removed]",
      "text/plain": [
       "<Figure size 1008x432 with 2 Axes>"
      ]
     },
     "metadata": {
      "needs_background": "light"
     },
     "output_type": "display_data"
    }
   ],
   "source": [
    "# Define the model in differential-equation format\n",
    "def odes(x,t):\n",
    "    #First step nitrification\n",
    "    # assign each ODE to a vector element\n",
    "    X_AOB  = x[0]\n",
    "    S_NH4  = x[1]\n",
    "    S_O2   = x[2]\n",
    "    S_NO2  = x[3]\n",
    "    S_NO3  = x[4]\n",
    "    X_NOB  = x[5]\n",
    "    \n",
    "    # define process rates\n",
    "    Pr_r_1 = mu_AOB*(S_O2/(K_O2_AOB + S_O2))*(S_NH4/(K_NH4_AOB + S_NH4))*X_AOB       #Process rate 1\n",
    "    Pr_r_2 = mu_NOB*(S_NO2/(K_NO2_NOB + S_NO2))*(S_O2/(K_O2_NOB + S_O2))*X_NOB    #Process rate 2  \n",
    "    \n",
    "    #define each ODE\n",
    "    dX_AOB  = Pr_r_1\n",
    "    dS_NH4  = (-1/Y_AOB - inbm)*Pr_r_1\n",
    "    dS_O2   = (1 - (3.43/Y_AOB))*Pr_r_1 + (1 - (1.14/Y_NOB))*Pr_r_2\n",
    "    dS_NO2  = (1/Y_AOB)*Pr_r_1 + (-1/Y_NOB - inbm)*Pr_r_2\n",
    "    dS_NO3  = (1/Y_NOB)*Pr_r_2\n",
    "    dX_NOB  = Pr_r_2\n",
    "   \n",
    "    return [dX_AOB, dS_NH4, dS_O2, dS_NO2, dS_NO3, dX_NOB]\n",
    "\n",
    "# Define initial conditions\n",
    "x0 = [0.01, 10, 10, 0, 0, 0.01]\n",
    "\n",
    "# test the defined odes\n",
    "#print(odes(x=x0, t=0))\n",
    "\n",
    "# Declare a time vector (time window)\n",
    "#! VISIT https://numpy.org/doc/stable/reference/generated/numpy.linspace.html AND FILL IN THE EQUATION BELOW\n",
    "#! t REPRESENTS THE TIME INTERVAL FOR WHICH THE DIFFERENTIAL EQUATIONS ARE SOLVED, WHAT IS AN INSIGHTFUL TIME INTERVAL?\n",
    "#! AND WHAT A SUFFICIENT TIMESTEP?\n",
    "t = np.linspace(???)\n",
    "\n",
    "# Solve the ODE equations\n",
    "x = odeint(odes, x0, t)\n",
    "\n",
    "X_AOB  = x[:,0]\n",
    "S_NH4  = x[:,1]\n",
    "S_O2   = x[:,2] \n",
    "S_NO2  = x[:,3] \n",
    "S_NO3  = x[:,4]\n",
    "X_NOB  = x[:,5]\n",
    "\n",
    "# Plot the results\n",
    "fig, (ax1, ax2) = plt.subplots(1, 2, figsize=(14, 6)) #this function plots an empty figure, which will be filled\n",
    "ax2.plot(t, X_AOB, color='g', label='$X_{AOB}$')\n",
    "ax2.plot(t, X_NOB, color='k', label='$X_{NOB}$')\n",
    "ax1.plot(t, S_NH4, color='g', label='$S_{NH_4}$')\n",
    "ax1.plot(t, S_NO2, color='k', label='$S_{NO_2}$')\n",
    "ax1.plot(t, S_NO3, color='c', label='$S_{NO_3}$')\n",
    "ax1.plot(t, S_O2,  color='y', label='$S_{O_2}$')\n",
    "\n",
    "#The lines below are used to create a 'nice' lay-out of the figure\n",
    "ax1.grid()\n",
    "ax2.grid()\n",
    "ax1.set_xlabel('Time ($d$)', fontsize=14)\n",
    "ax1.set_ylabel('Concentration ($g/m^{3}$)', fontsize=14)\n",
    "ax2.set_xlabel('Time ($d$)', fontsize=14)\n",
    "ax2.set_ylabel('Concentration ($g/m^{3}$)', fontsize=14)\n",
    "ax1.set_title('Solute concentrations',  fontsize=18)\n",
    "ax2.set_title('Biomass concentrations', fontsize=18)\n",
    "ax1.tick_params(axis='x', labelsize=14)\n",
    "ax1.tick_params(axis='y', labelsize=14)\n",
    "ax2.tick_params(axis='x', labelsize=14)\n",
    "ax2.tick_params(axis='y', labelsize=14)\n",
    "ax1.legend()\n",
    "ax2.legend()"
   ]
  },
  {
   "cell_type": "markdown",
   "id": "c888e5a1",
   "metadata": {},
   "source": [
    "## Questions\n",
    "\n",
    "Q1. Based on the outcome of the simulation: When would you measure NH$_{4}$ concentrations over time, keeping in mind the time and financial constraints of the experiment? And when for NO$_{2}$, and NO$_{3}$?\n",
    "\n",
    "Q2. Change the parameter uno to 0. What is happening now? How can we explain the changes occurring in the plot?\n",
    "\n",
    "Q3. The system simulated is a closed experiment, where O2 is slowly reduced. Can you change the model so that O$_{2}$ concentrations are constant over time?"
   ]
  }
 ],
 "metadata": {
  "kernelspec": {
   "display_name": "Python 3 (ipykernel)",
   "language": "python",
   "name": "python3"
  },
  "language_info": {
   "codemirror_mode": {
    "name": "ipython",
    "version": 3
   },
   "file_extension": ".py",
   "mimetype": "text/x-python",
   "name": "python",
   "nbconvert_exporter": "python",
   "pygments_lexer": "ipython3",
   "version": "3.9.7"
  }
 },
 "nbformat": 4,
 "nbformat_minor": 5
}
